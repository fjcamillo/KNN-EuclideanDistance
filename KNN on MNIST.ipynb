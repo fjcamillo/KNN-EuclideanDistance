{
 "cells": [
  {
   "cell_type": "markdown",
   "metadata": {},
   "source": [
    "# KNearestNeighbors on MNIST"
   ]
  },
  {
   "cell_type": "code",
   "execution_count": 5,
   "metadata": {
    "collapsed": true
   },
   "outputs": [],
   "source": [
    "import numpy as np\n",
    "import gzip\n",
    "import cPickle"
   ]
  },
  {
   "cell_type": "code",
   "execution_count": 3,
   "metadata": {
    "collapsed": true
   },
   "outputs": [],
   "source": [
    "mnist_test_images = gzip.open('/home/fjcamillo/Documents/Python Study/Datasets/MNIST/t10k-images-idx3-ubyte.gz', 'rb')\n",
    "mnist_test_labels = gzip.open('/home/fjcamillo/Documents/Python Study/Datasets/MNIST/t10k-labels-idx1-ubyte.gz', 'rb')\n",
    "mnist_train_images = gzip.open('/home/fjcamillo/Documents/Python Study/Datasets/MNIST/train-images-idx3-ubyte.gz', 'rb')\n",
    "mnist_train_labels = gzip.open('/home/fjcamillo/Documents/Python Study/Datasets/MNIST/train-labels-idx1-ubyte.gz', 'rb')"
   ]
  },
  {
   "cell_type": "code",
   "execution_count": 4,
   "metadata": {
    "collapsed": false
   },
   "outputs": [
    {
     "data": {
      "text/plain": [
       "<gzip open file '/home/fjcamillo/Documents/Python Study/Datasets/MNIST/t10k-images-idx3-ubyte.gz', mode 'rb' at 0x7f5a2402b1e0 0x7f5a2403b2d0>"
      ]
     },
     "execution_count": 4,
     "metadata": {},
     "output_type": "execute_result"
    }
   ],
   "source": [
    "mnist_test_images"
   ]
  },
  {
   "cell_type": "code",
   "execution_count": null,
   "metadata": {
    "collapsed": true
   },
   "outputs": [],
   "source": []
  }
 ],
 "metadata": {
  "kernelspec": {
   "display_name": "Python 2",
   "language": "python",
   "name": "python2"
  },
  "language_info": {
   "codemirror_mode": {
    "name": "ipython",
    "version": 2
   },
   "file_extension": ".py",
   "mimetype": "text/x-python",
   "name": "python",
   "nbconvert_exporter": "python",
   "pygments_lexer": "ipython2",
   "version": "2.7.13"
  }
 },
 "nbformat": 4,
 "nbformat_minor": 0
}
