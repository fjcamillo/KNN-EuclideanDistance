{
 "cells": [
  {
   "cell_type": "markdown",
   "metadata": {},
   "source": [
    "<center><h1>Euclidean Distance (L2 Distance)</h1></center>\n",
    "<br>\n",
    "<div><img src=\"https://wikimedia.org/api/rest_v1/media/math/render/svg/dc0281a964ec758cca02ab9ef91a7f54ac00d4b7\"></div>"
   ]
  },
  {
   "cell_type": "code",
   "execution_count": 1,
   "metadata": {
    "collapsed": false
   },
   "outputs": [],
   "source": [
    "import numpy as np\n",
    "from PIL import Image\n",
    "import os\n",
    "import pylab as pl\n",
    "%matplotlib inline"
   ]
  },
  {
   "cell_type": "code",
   "execution_count": 12,
   "metadata": {
    "collapsed": true
   },
   "outputs": [],
   "source": [
    "def convertimage(filename, size, verbose=False):\n",
    "    img = Image.open(filename)\n",
    "#     pl.imshow(img)\n",
    "    img = img.resize(size)\n",
    "    img = [list(img.getdata())]\n",
    "    img = map(list, img)\n",
    "    img = np.array(img)\n",
    "    return img"
   ]
  },
  {
   "cell_type": "code",
   "execution_count": 3,
   "metadata": {
    "collapsed": true
   },
   "outputs": [],
   "source": [
    "def createlabel(directory, pool):\n",
    "    label = []\n",
    "    for direct in directory:\n",
    "        parsed = direct.split('/')[-1]\n",
    "        for po in pool:\n",
    "            if po in parsed: label.append(po)\n",
    "    label = np.array(label)\n",
    "    return label"
   ]
  },
  {
   "cell_type": "code",
   "execution_count": 10,
   "metadata": {
    "collapsed": true
   },
   "outputs": [],
   "source": [
    "def train(trainDir, root, listoflabels, working_size, verbose=False):\n",
    "    training_images = [root_path+training_path+train for train in os.listdir(root_path+training_path)]\n",
    "        \n",
    "    training_matrix = [convertimage(f, working_size, verbose) for f in training_images]\n",
    "    training_matrix = np.array(training_matrix)\n",
    "            \n",
    "    train_labels = createlabel(training_images, listoflabels)\n",
    "    \n",
    "    return training_matrix, train_labels"
   ]
  },
  {
   "cell_type": "code",
   "execution_count": 5,
   "metadata": {
    "collapsed": true
   },
   "outputs": [],
   "source": [
    "def test(testDir, root, verbose=False):\n",
    "    test_images = [root_path+test_path+test for test in os.listdir(root_path+test_path)]\n",
    "    test_matrix = [convertimage(f, working_size, verbose) for f in test_images]\n",
    "    test_matrix = np.array(test_matrix)\n",
    "    return test_matrix"
   ]
  },
  {
   "cell_type": "code",
   "execution_count": 45,
   "metadata": {
    "collapsed": true
   },
   "outputs": [],
   "source": [
    "def clf(training_matrix, test_matrix, train_labels, K=1, verbose=False):\n",
    "    \n",
    "    #Get Euclidean Distances between images\n",
    "    l2distance = [np.sqrt(np.sum(np.square(np.subtract(test, train)))) for train in training_matrix for test in test_matrix]\n",
    "    print(l2distance)\n",
    "    \n",
    "    #Convert to sigmoid\n",
    "    l2distance_sigmoid = [(1/(1+np.exp(-1*l2))) for l2 in l2distance]\n",
    "    \n",
    "    #Get the indexes smallest distance or the NearestNeighbor\n",
    "    #neighbor_index = filter(lambda a: a!=-1, [nearest if l2distance[np.argmin(l2distance)]==l2distance[nearest] else -1 for nearest in range(0, len(l2distance))])\n",
    "    neighbor_index = np.argsort(l2distance)[:K]\n",
    "    \n",
    "    #Get the labels of the indexes\n",
    "    actual_labels = [train_labels[nearestneighbor] for nearestneighbor in neighbor_index]\n",
    "    \n",
    "    #Print Labels\n",
    "    for labe in range(len(actual_labels)):\n",
    "        print(\"%s is the nearest image, with a distance of %s\" % (actual_labels[labe], str(l2distance_sigmoid[neighbor_index[labe]])))"
   ]
  },
  {
   "cell_type": "code",
   "execution_count": 20,
   "metadata": {
    "collapsed": false
   },
   "outputs": [],
   "source": [
    "def main(listoflabels, working_size, K=1, verbose=False):\n",
    "    #root file\n",
    "    root_path = os.path.abspath(os.path.dirname('__file__'))\n",
    "    \n",
    "    #Training and Test directory\n",
    "    training_path = \"/training/\"\n",
    "    test_path = \"/test/\"\n",
    "    \n",
    "    #List of images\n",
    "    training_images = [root_path+training_path+train for train in os.listdir(root_path+training_path)]\n",
    "    test_images = [root_path+test_path+test for test in os.listdir(root_path+test_path)]\n",
    "    \n",
    "    #Create labels list\n",
    "    train_labels = createlabel(training_images, listoflabels)\n",
    "    \n",
    "    #Create Training Matrix\n",
    "    training_matrix = [convertimage(f, working_size, verbose) for f in training_images]   \n",
    "    training_matrix = np.array(training_matrix)\n",
    "    \n",
    "    #Create Test Matrix\n",
    "    test_matrix = [convertimage(f, working_size, verbose) for f in test_images]\n",
    "    test_matrix = np.array(test_matrix)\n",
    "    \n",
    "    #Get Euclidean Distances between images\n",
    "    l2distance = [np.sqrt(np.sum(np.square(np.subtract(test, train)))) for train in training_matrix for test in test_matrix]\n",
    "    print(l2distance)\n",
    "#     pl.imshow(l2distance[0])\n",
    "    \n",
    "    #Get the indexes smallest distance or the NearestNeighbor\n",
    "    #neighbor_index = filter(lambda a: a!=-1, [nearest if l2distance[np.argmin(l2distance)]==l2distance[nearest] else -1 for nearest in range(0, len(l2distance))])\n",
    "    neighbor_index = np.argsort(l2distance)[:K]\n",
    "    \n",
    "    #Get the labels of the indexes\n",
    "    actual_labels = [train_labels[nearestneighbor] for nearestneighbor in neighbor_index]\n",
    "    \n",
    "    #Print Labels\n",
    "    for labe in range(len(actual_labels)):\n",
    "        print(\"%s is the nearest image, with a distance of %s\" % (actual_labels[labe], str(l2distance[neighbor_index[labe]])))"
   ]
  },
  {
   "cell_type": "code",
   "execution_count": null,
   "metadata": {
    "collapsed": false
   },
   "outputs": [],
   "source": []
  },
  {
   "cell_type": "code",
   "execution_count": 8,
   "metadata": {
    "collapsed": true
   },
   "outputs": [],
   "source": [
    "labels = [\"fj\", \"shella\", \"cha\", 'jay', 'jhoffer', 'paul', 'rommel', 'shaneh', 'william']\n",
    "working_size = (50,37)\n",
    "root_path = os.path.abspath(os.path.dirname('__file__'))\n",
    "training_path = \"/training/\"\n",
    "test_path = \"/test/\"\n",
    "\n",
    "\n"
   ]
  },
  {
   "cell_type": "code",
   "execution_count": 13,
   "metadata": {
    "collapsed": false
   },
   "outputs": [],
   "source": [
    "training_matrix, train_labels = train(training_path, root_path, labels, working_size)"
   ]
  },
  {
   "cell_type": "code",
   "execution_count": 43,
   "metadata": {
    "collapsed": true
   },
   "outputs": [],
   "source": [
    "test_matrix = test(test_path, root_path)"
   ]
  },
  {
   "cell_type": "code",
   "execution_count": 46,
   "metadata": {
    "collapsed": false
   },
   "outputs": [
    {
     "name": "stdout",
     "output_type": "stream",
     "text": [
      "[9835.8002724740199, 6796.6638139604929, 8156.3371068145534, 9441.9026684244109, 8281.766297113194, 7126.4301722531454, 7939.0703485987578, 7734.2181246716855, 9456.0265968323074, 9075.8219462481738, 9758.43911698997, 9298.5625233150949, 9283.3404009548194, 8543.5524227337664, 7041.3927599587851, 9696.4140794419454, 8151.1172853787348, 6908.3686207381843, 8356.454271998382, 8739.3368741569866, 7362.0663539525367, 12985.05252203471, 8683.84644037422, 7947.4660741647713, 9074.6906283354911, 7596.0639807732005, 8155.5223008707417, 7761.8022391710028, 8979.4514309060105, 7665.5885618783377, 10240.495739953218, 7307.0885446941174, 8060.1690428923384, 7834.5267246975427, 9518.788946079223, 6952.214970784491, 9612.2722079641499, 6780.0123893692107, 10426.273879003946, 10661.484418222446, 9586.1535038825659, 8451.1782610473911, 8735.1218652060033, 7371.0330347923418, 8167.0361821164961, 8075.2435257396419, 8546.4203617655039, 7970.9816835820166, 9333.2511484476836, 7915.0243208722995, 7721.2296948089815, 8415.9802756422851, 7156.0150922143812, 8895.8883760982517, 9140.9839732930286, 7665.9097307495085, 6954.3175078507884, 9465.2311118112702, 9702.6351059905373, 7314.7755262892379, 10222.835223165832, 9562.6012151506147, 8256.8712597448193, 8210.4195386106785, 8448.00059185604, 9874.5923966511145, 10685.142207757461, 9378.1200674762094, 7335.9387947283203, 8013.9148360835479, 8468.0291685846241, 8436.2435360769432, 10416.433074714203, 8782.4001844598261, 9839.0274417749242, 9045.2320036580604, 8795.7373767069694, 8063.0956214099306, 8878.2176139132789, 8132.5267906106528, 8510.5412871332683, 8594.5384401956107, 9041.6710291848158, 11232.647239186317, 8667.6941570408453, 6956.4610255502757, 12685.289945444685, 6958.5234784399481, 10559.313093189348, 8801.6243387229388, 7491.1651964163757, 5993.4902185621359, 9318.1490651309068, 8115.7063155340957, 8057.5392645645852, 11438.485258110009, 9916.9813955658901, 8082.7511405461446, 10236.945882439742, 7115.0236120479603, 8215.7111073844371, 8192.7486230202376, 8811.6526826696936, 9143.9253059066486, 12337.804991164352, 7721.2312489654132, 10591.277684963226, 7331.7016442296672, 11183.894446926795, 11514.69825918161, 10521.264847916338, 8240.4840270459845, 10254.88893162671]\n",
      "fj is the nearest image, with a distance of 5993.49021856\n",
      "paul is the nearest image, with a distance of 6780.01238937\n",
      "cha is the nearest image, with a distance of 6796.66381396\n",
      "cha is the nearest image, with a distance of 6908.36862074\n",
      "cha is the nearest image, with a distance of 6952.21497078\n"
     ]
    }
   ],
   "source": [
    "clf(training_matrix, test_matrix, train_labels, 5, True)"
   ]
  },
  {
   "cell_type": "code",
   "execution_count": null,
   "metadata": {
    "collapsed": true
   },
   "outputs": [],
   "source": []
  }
 ],
 "metadata": {
  "kernelspec": {
   "display_name": "Python 2",
   "language": "python",
   "name": "python2"
  },
  "language_info": {
   "codemirror_mode": {
    "name": "ipython",
    "version": 2
   },
   "file_extension": ".py",
   "mimetype": "text/x-python",
   "name": "python",
   "nbconvert_exporter": "python",
   "pygments_lexer": "ipython2",
   "version": "2.7.13"
  }
 },
 "nbformat": 4,
 "nbformat_minor": 0
}
