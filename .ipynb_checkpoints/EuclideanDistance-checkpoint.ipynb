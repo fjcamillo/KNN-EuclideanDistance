{
 "cells": [
  {
   "cell_type": "markdown",
   "metadata": {},
   "source": [
    "<center><h1>Euclidean Distance (L2 Distance)</h1></center>\n",
    "<br>\n",
    "<div><img src=\"https://wikimedia.org/api/rest_v1/media/math/render/svg/dc0281a964ec758cca02ab9ef91a7f54ac00d4b7\"></div>"
   ]
  },
  {
   "cell_type": "code",
   "execution_count": 1,
   "metadata": {
    "collapsed": false
   },
   "outputs": [],
   "source": [
    "import numpy as np\n",
    "from PIL import Image\n",
    "import os\n",
    "import pylab as pl\n",
    "%matplotlib inline"
   ]
  },
  {
   "cell_type": "code",
   "execution_count": 2,
   "metadata": {
    "collapsed": true
   },
   "outputs": [],
   "source": [
    "def convertimage(filename, size, verbose=False):\n",
    "    img = Image.open(filename)\n",
    "#     pl.imshow(img)\n",
    "    img = img.resize(size)\n",
    "    img = [list(img.getdata())]\n",
    "    img = map(list, img)\n",
    "    img = np.array(img)\n",
    "    return img"
   ]
  },
  {
   "cell_type": "code",
   "execution_count": 3,
   "metadata": {
    "collapsed": true
   },
   "outputs": [],
   "source": [
    "def createlabel(directory, pool):\n",
    "    label = []\n",
    "    for direct in directory:\n",
    "        parsed = direct.split('/')[-1]\n",
    "        for po in pool:\n",
    "            if po in parsed: label.append(po)\n",
    "    label = np.array(label)\n",
    "    return label"
   ]
  },
  {
   "cell_type": "code",
   "execution_count": 4,
   "metadata": {
    "collapsed": true
   },
   "outputs": [],
   "source": [
    "def train(trainDir, root, listoflabels, working_size, verbose=False):\n",
    "    training_images = [root_path+training_path+train for train in os.listdir(root_path+training_path)]\n",
    "        \n",
    "    training_matrix = [convertimage(f, working_size, verbose) for f in training_images]\n",
    "    training_matrix = np.array(training_matrix)\n",
    "            \n",
    "    train_labels = createlabel(training_images, listoflabels)\n",
    "    \n",
    "    return training_matrix, train_labels"
   ]
  },
  {
   "cell_type": "code",
   "execution_count": 5,
   "metadata": {
    "collapsed": true
   },
   "outputs": [],
   "source": [
    "def test(testDir, root, verbose=False):\n",
    "    test_images = [root_path+test_path+test for test in os.listdir(root_path+test_path)]\n",
    "    test_matrix = [convertimage(f, working_size, verbose) for f in test_images]\n",
    "    test_matrix = np.array(test_matrix)\n",
    "    return test_matrix"
   ]
  },
  {
   "cell_type": "code",
   "execution_count": 14,
   "metadata": {
    "collapsed": true
   },
   "outputs": [],
   "source": [
    "def clf(training_matrix, test_matrix, train_labels, K=1, verbose=False):\n",
    "    \n",
    "    #Get Euclidean Distances between images\n",
    "    l2distance = [np.sqrt(np.sum(np.square(np.subtract(test, train)))) for train in training_matrix for test in test_matrix]\n",
    "    \n",
    "    \n",
    "    #Convert to sigmoid\n",
    "    l2distance_sigmoid = [l2/np.sqrt(1+np.square(l2)) for l2 in l2distance]\n",
    "    print(l2distance_sigmoid)\n",
    "    \n",
    "    #Get the indexes smallest distance or the NearestNeighbor\n",
    "    #neighbor_index = filter(lambda a: a!=-1, [nearest if l2distance[np.argmin(l2distance)]==l2distance[nearest] else -1 for nearest in range(0, len(l2distance))])\n",
    "    neighbor_index = np.argsort(l2distance)[:K]\n",
    "    \n",
    "    #Get the labels of the indexes\n",
    "    actual_labels = [train_labels[nearestneighbor] for nearestneighbor in neighbor_index]\n",
    "    \n",
    "    #Print Labels\n",
    "    for labe in range(len(actual_labels)):\n",
    "        print(\"%s is the nearest image, with a distance of %s\" % (actual_labels[labe], str(l2distance_sigmoid[neighbor_index[labe]])))"
   ]
  },
  {
   "cell_type": "code",
   "execution_count": 7,
   "metadata": {
    "collapsed": false
   },
   "outputs": [],
   "source": [
    "def main(listoflabels, working_size, K=1, verbose=False):\n",
    "    #root file\n",
    "    root_path = os.path.abspath(os.path.dirname('__file__'))\n",
    "    \n",
    "    #Training and Test directory\n",
    "    training_path = \"/training/\"\n",
    "    test_path = \"/test/\"\n",
    "    \n",
    "    #List of images\n",
    "    training_images = [root_path+training_path+train for train in os.listdir(root_path+training_path)]\n",
    "    test_images = [root_path+test_path+test for test in os.listdir(root_path+test_path)]\n",
    "    \n",
    "    #Create labels list\n",
    "    train_labels = createlabel(training_images, listoflabels)\n",
    "    \n",
    "    #Create Training Matrix\n",
    "    training_matrix = [convertimage(f, working_size, verbose) for f in training_images]   \n",
    "    training_matrix = np.array(training_matrix)\n",
    "    \n",
    "    #Create Test Matrix\n",
    "    test_matrix = [convertimage(f, working_size, verbose) for f in test_images]\n",
    "    test_matrix = np.array(test_matrix)\n",
    "    \n",
    "    #Get Euclidean Distances between images\n",
    "    l2distance = [np.sqrt(np.sum(np.square(np.subtract(test, train)))) for train in training_matrix for test in test_matrix]\n",
    "    print(l2distance)\n",
    "#     pl.imshow(l2distance[0])\n",
    "    \n",
    "    #Get the indexes smallest distance or the NearestNeighbor\n",
    "    #neighbor_index = filter(lambda a: a!=-1, [nearest if l2distance[np.argmin(l2distance)]==l2distance[nearest] else -1 for nearest in range(0, len(l2distance))])\n",
    "    neighbor_index = np.argsort(l2distance_sigmoid)[:K]\n",
    "    \n",
    "    #Get the labels of the indexes\n",
    "    actual_labels = [train_labels[nearestneighbor] for nearestneighbor in neighbor_index]\n",
    "    \n",
    "    #Print Labels\n",
    "    for labe in range(len(actual_labels)):\n",
    "        print(\"%s is the nearest image, with a distance of %s\" % (actual_labels[labe], str(l2distance[neighbor_index[labe]])))"
   ]
  },
  {
   "cell_type": "code",
   "execution_count": null,
   "metadata": {
    "collapsed": false
   },
   "outputs": [],
   "source": []
  },
  {
   "cell_type": "code",
   "execution_count": 8,
   "metadata": {
    "collapsed": true
   },
   "outputs": [],
   "source": [
    "labels = [\"fj\", \"shella\", \"cha\", 'jay', 'jhoffer', 'paul', 'rommel', 'shaneh', 'william']\n",
    "working_size = (50,37)\n",
    "root_path = os.path.abspath(os.path.dirname('__file__'))\n",
    "training_path = \"/training/\"\n",
    "test_path = \"/test/\"\n",
    "\n",
    "\n"
   ]
  },
  {
   "cell_type": "code",
   "execution_count": 9,
   "metadata": {
    "collapsed": false
   },
   "outputs": [],
   "source": [
    "training_matrix, train_labels = train(training_path, root_path, labels, working_size)"
   ]
  },
  {
   "cell_type": "code",
   "execution_count": 10,
   "metadata": {
    "collapsed": true
   },
   "outputs": [],
   "source": [
    "test_matrix = test(test_path, root_path)"
   ]
  },
  {
   "cell_type": "code",
   "execution_count": 15,
   "metadata": {
    "collapsed": false
   },
   "outputs": [
    {
     "name": "stdout",
     "output_type": "stream",
     "text": [
      "[0.0, 0.0, 0.0, 0.0, 0.0, 0.0, 0.0, 0.0, 0.0, 0.0, 0.0, 0.0, 0.0, 0.0, 0.0, 0.0, 0.0, 0.0, 0.0, 0.0, 0.0, 0.0, 0.0, 0.0, 0.0, 0.0, 0.0, 0.0, 0.0, 0.0, 0.0, 0.0, 0.0, 0.0, 0.0, 0.0, 0.0, 0.0, 0.0, 0.0, 0.0, 0.0, 0.0, 0.0, 0.0, 0.0, 0.0, 0.0, 0.0, 0.0, 0.0, 0.0, 0.0, 0.0, 0.0, 0.0, 0.0, 0.0, 0.0, 0.0, 0.0, 0.0, 0.0, 0.0, 0.0, 0.0, 0.0, 0.0, 0.0, 0.0, 0.0, 0.0, 0.0, 0.0, 0.0, 0.0, 0.0, 0.0, 0.0, 0.0, 0.0, 0.0, 0.0, 0.0, 0.0, 0.0, 0.0, 0.0, 0.0, 0.0, 0.0, 0.0, 0.0, 0.0, 0.0, 0.0, 0.0, 0.0, 0.0, 0.0, 0.0, 0.0, 0.0, 0.0, 0.0, 0.0, 0.0, 0.0, 0.0, 0.0, 0.0, 0.0, 0.0]\n",
      "fj is the nearest image, with a distance of 0.0\n",
      "paul is the nearest image, with a distance of 0.0\n",
      "cha is the nearest image, with a distance of 0.0\n",
      "cha is the nearest image, with a distance of 0.0\n",
      "cha is the nearest image, with a distance of 0.0\n"
     ]
    },
    {
     "name": "stderr",
     "output_type": "stream",
     "text": [
      "/home/fjcamillo/anaconda2/envs/tensorflow/lib/python2.7/site-packages/ipykernel/__main__.py:8: RuntimeWarning: overflow encountered in exp\n"
     ]
    }
   ],
   "source": [
    "clf(training_matrix, test_matrix, train_labels, 5, True)"
   ]
  },
  {
   "cell_type": "code",
   "execution_count": 12,
   "metadata": {
    "collapsed": false
   },
   "outputs": [
    {
     "data": {
      "text/plain": [
       "0.9997343326784045"
      ]
     },
     "execution_count": 12,
     "metadata": {},
     "output_type": "execute_result"
    }
   ],
   "source": [
    "1/(1+np.exp(-8.233))"
   ]
  },
  {
   "cell_type": "markdown",
   "metadata": {},
   "source": [
    "<div><img src=\"https://wikimedia.org/api/rest_v1/media/math/render/svg/de035d9e6fef05416323e732e2a12feb4401d37b\"></div>"
   ]
  },
  {
   "cell_type": "code",
   "execution_count": 13,
   "metadata": {
    "collapsed": false
   },
   "outputs": [
    {
     "data": {
      "text/plain": [
       "0.0"
      ]
     },
     "execution_count": 13,
     "metadata": {},
     "output_type": "execute_result"
    }
   ],
   "source": [
    "0/np.sqrt(1+np.square(0))"
   ]
  },
  {
   "cell_type": "code",
   "execution_count": null,
   "metadata": {
    "collapsed": true
   },
   "outputs": [],
   "source": []
  }
 ],
 "metadata": {
  "kernelspec": {
   "display_name": "Python 2",
   "language": "python",
   "name": "python2"
  },
  "language_info": {
   "codemirror_mode": {
    "name": "ipython",
    "version": 2
   },
   "file_extension": ".py",
   "mimetype": "text/x-python",
   "name": "python",
   "nbconvert_exporter": "python",
   "pygments_lexer": "ipython2",
   "version": "2.7.13"
  }
 },
 "nbformat": 4,
 "nbformat_minor": 0
}
