{
 "cells": [
  {
   "cell_type": "markdown",
   "metadata": {},
   "source": [
    "<center><h1>Euclidean Distance (L2 Distance)</h1></center>\n",
    "<br>\n",
    "<div><img src=\"https://wikimedia.org/api/rest_v1/media/math/render/svg/dc0281a964ec758cca02ab9ef91a7f54ac00d4b7\"></div>"
   ]
  },
  {
   "cell_type": "code",
   "execution_count": 1,
   "metadata": {
    "collapsed": false
   },
   "outputs": [],
   "source": [
    "import numpy as np\n",
    "from PIL import Image\n",
    "import os\n",
    "import pylab as pl\n",
    "%matplotlib inline"
   ]
  },
  {
   "cell_type": "code",
   "execution_count": 12,
   "metadata": {
    "collapsed": true
   },
   "outputs": [],
   "source": [
    "def convertimage(filename, size, verbose=False):\n",
    "    img = Image.open(filename)\n",
    "#     pl.imshow(img)\n",
    "    img = img.resize(size)\n",
    "    img = [list(img.getdata())]\n",
    "    img = map(list, img)\n",
    "    img = np.array(img)\n",
    "    return img"
   ]
  },
  {
   "cell_type": "code",
   "execution_count": 3,
   "metadata": {
    "collapsed": true
   },
   "outputs": [],
   "source": [
    "def createlabel(directory, pool):\n",
    "    label = []\n",
    "    for direct in directory:\n",
    "        parsed = direct.split('/')[-1]\n",
    "        for po in pool:\n",
    "            if po in parsed: label.append(po)\n",
    "    label = np.array(label)\n",
    "    return label"
   ]
  },
  {
   "cell_type": "code",
   "execution_count": 10,
   "metadata": {
    "collapsed": true
   },
   "outputs": [],
   "source": [
    "def train(trainDir, root, listoflabels, working_size, verbose=False):\n",
    "    training_images = [root_path+training_path+train for train in os.listdir(root_path+training_path)]\n",
    "        \n",
    "    training_matrix = [convertimage(f, working_size, verbose) for f in training_images]\n",
    "    training_matrix = np.array(training_matrix)\n",
    "            \n",
    "    train_labels = createlabel(training_images, listoflabels)\n",
    "    \n",
    "    return training_matrix, train_labels"
   ]
  },
  {
   "cell_type": "code",
   "execution_count": 5,
   "metadata": {
    "collapsed": true
   },
   "outputs": [],
   "source": [
    "def test(testDir, root, verbose=False):\n",
    "    test_images = [root_path+test_path+test for test in os.listdir(root_path+test_path)]\n",
    "    test_matrix = [convertimage(f, working_size, verbose) for f in test_images]\n",
    "    test_matrix = np.array(test_matrix)\n",
    "    return test_matrix"
   ]
  },
  {
   "cell_type": "code",
   "execution_count": 6,
   "metadata": {
    "collapsed": true
   },
   "outputs": [],
   "source": [
    "def clf(training_matrix, test_matrix, train_labels, K=1, verbose=False):\n",
    "    \n",
    "    #Get Euclidean Distances between images\n",
    "    l2distance = [np.sqrt(np.sum(np.square(np.subtract(test, train)))) for train in training_matrix for test in test_matrix]\n",
    "    print(l2distance + \"\\n\")\n",
    "    \n",
    "    #Get the indexes smallest distance or the NearestNeighbor\n",
    "    #neighbor_index = filter(lambda a: a!=-1, [nearest if l2distance[np.argmin(l2distance)]==l2distance[nearest] else -1 for nearest in range(0, len(l2distance))])\n",
    "    neighbor_index = np.argsort(l2distance)[:K]\n",
    "    \n",
    "    #Get the labels of the indexes\n",
    "    actual_labels = [train_labels[nearestneighbor] for nearestneighbor in neighbor_index]\n",
    "    \n",
    "    #Print Labels\n",
    "    for labe in range(len(actual_labels)):\n",
    "        print(\"%s is the nearest image, with a distance of %s\" % (actual_labels[labe], str(l2distance[neighbor_index[labe]])))"
   ]
  },
  {
   "cell_type": "code",
   "execution_count": 20,
   "metadata": {
    "collapsed": false
   },
   "outputs": [],
   "source": [
    "def main(listoflabels, working_size, K=1, verbose=False):\n",
    "    #root file\n",
    "    root_path = os.path.abspath(os.path.dirname('__file__'))\n",
    "    \n",
    "    #Training and Test directory\n",
    "    training_path = \"/training/\"\n",
    "    test_path = \"/test/\"\n",
    "    \n",
    "    #List of images\n",
    "    training_images = [root_path+training_path+train for train in os.listdir(root_path+training_path)]\n",
    "    test_images = [root_path+test_path+test for test in os.listdir(root_path+test_path)]\n",
    "    \n",
    "    #Create labels list\n",
    "    train_labels = createlabel(training_images, listoflabels)\n",
    "    \n",
    "    #Create Training Matrix\n",
    "    training_matrix = [convertimage(f, working_size, verbose) for f in training_images]   \n",
    "    training_matrix = np.array(training_matrix)\n",
    "    \n",
    "    #Create Test Matrix\n",
    "    test_matrix = [convertimage(f, working_size, verbose) for f in test_images]\n",
    "    test_matrix = np.array(test_matrix)\n",
    "    \n",
    "    #Get Euclidean Distances between images\n",
    "    l2distance = [np.sqrt(np.sum(np.square(np.subtract(test, train)))) for train in training_matrix for test in test_matrix]\n",
    "    print(l2distance)\n",
    "#     pl.imshow(l2distance[0])\n",
    "    \n",
    "    #Get the indexes smallest distance or the NearestNeighbor\n",
    "    #neighbor_index = filter(lambda a: a!=-1, [nearest if l2distance[np.argmin(l2distance)]==l2distance[nearest] else -1 for nearest in range(0, len(l2distance))])\n",
    "    neighbor_index = np.argsort(l2distance)[:K]\n",
    "    \n",
    "    #Get the labels of the indexes\n",
    "    actual_labels = [train_labels[nearestneighbor] for nearestneighbor in neighbor_index]\n",
    "    \n",
    "    #Print Labels\n",
    "    for labe in range(len(actual_labels)):\n",
    "        print(\"%s is the nearest image, with a distance of %s\" % (actual_labels[labe], str(l2distance[neighbor_index[labe]])))"
   ]
  },
  {
   "cell_type": "code",
   "execution_count": null,
   "metadata": {
    "collapsed": false
   },
   "outputs": [],
   "source": []
  },
  {
   "cell_type": "code",
   "execution_count": 8,
   "metadata": {
    "collapsed": true
   },
   "outputs": [],
   "source": [
    "labels = [\"fj\", \"shella\", \"cha\", 'jay', 'jhoffer', 'paul', 'rommel', 'shaneh', 'william']\n",
    "working_size = (50,37)\n",
    "root_path = os.path.abspath(os.path.dirname('__file__'))\n",
    "training_path = \"/training/\"\n",
    "test_path = \"/test/\"\n",
    "\n",
    "\n"
   ]
  },
  {
   "cell_type": "code",
   "execution_count": 13,
   "metadata": {
    "collapsed": false
   },
   "outputs": [],
   "source": [
    "training_matrix, train_labels = train(training_path, root_path, labels, working_size)"
   ]
  },
  {
   "cell_type": "code",
   "execution_count": 21,
   "metadata": {
    "collapsed": true
   },
   "outputs": [],
   "source": [
    "test_matrix = test(test_path, root_path)"
   ]
  },
  {
   "cell_type": "code",
   "execution_count": 22,
   "metadata": {
    "collapsed": false
   },
   "outputs": [
    {
     "name": "stdout",
     "output_type": "stream",
     "text": [
      "[9655.8107375817999, 6868.0494319712052, 7345.4651996997436, 8662.1818267685885, 7851.4715181295796, 6176.6564579876058, 7933.8605987249357, 7247.5866328040538, 9019.8129138025924, 8942.9764620063725, 8787.5672401410393, 9099.235187640772, 9056.9103451453029, 7814.4370238680658, 6971.8133939456529, 9428.5813354926304, 7679.543150474512, 7031.0436636391332, 8039.684944075856, 8224.3428308892871, 7218.0948317405746, 11935.927823173195, 8619.1196186153484, 7831.8113485961858, 8227.8723859816891, 7466.2280972389262, 7942.1801792706765, 7534.7347664002082, 8449.2873072230177, 7461.1481690152759, 9944.9059824615742, 6880.4808698229808, 7225.4650369370693, 8022.1997606641535, 8817.9639940294601, 7030.8207913443503, 8917.9507175135259, 6825.3607963242503, 9949.707684148314, 10004.644921235336, 8869.6175227571111, 8208.3632960536052, 8402.457259635421, 6932.1627216908291, 7967.2558638467235, 7859.6259452979057, 8672.3871569481944, 7136.9289613950905, 8430.8683419918252, 7363.12365779633, 7497.2182841371241, 8194.8219016644889, 6654.129544876625, 8508.3931502957712, 8582.7090128933069, 7808.6641623263577, 7191.1538712504271, 8990.1074520830953, 9179.3363594543152, 6785.797005510849, 9569.8132688156456, 9079.7866715028049, 7669.759904977469, 8517.2760316899439, 7917.8287427804344, 9039.2649590550227, 9695.4298512237201, 8631.5996200009176, 6681.416316919639, 7796.0235376761148, 8204.3299543594658, 8201.1961932391296, 9802.0355028942849, 8378.0926827052954, 9616.2646074242366, 8508.0472495161903, 8102.8873866048516, 8008.994506178663, 8705.3148133769409, 7918.3614466630661, 8266.461455786266, 8387.1529734469495, 8491.9607276529496, 10350.014299507031, 8269.2257194975646, 7031.5008355257987, 11770.944779413418, 7372.9890139617055, 9627.5834454965898, 8713.0638124600009, 6746.3443434203682, 6081.6450899407146, 8532.9599788115738, 8023.5486538064943, 7661.71162339069, 10861.475728463422, 8910.547682381819, 7820.1301779446103, 9323.4263551550612, 6382.547845492425, 7615.990874469323, 7644.2874095627776, 8666.0946798428176, 8086.0216423158308, 11849.535180757091, 7505.0822780300014, 9960.6969133690636, 7153.0666849960235, 9970.8527719548638, 10969.75551231658, 9734.7718000988607, 8046.1033426124968, 9452.690146196479]\n",
      "fj is the nearest image, with a distance of 6081.64508994\n",
      "jay is the nearest image, with a distance of 6176.65645799\n",
      "fj is the nearest image, with a distance of 6382.54784549\n"
     ]
    }
   ],
   "source": [
    "clf(training_matrix, test_matrix, train_labels, 3, True)"
   ]
  },
  {
   "cell_type": "code",
   "execution_count": null,
   "metadata": {
    "collapsed": true
   },
   "outputs": [],
   "source": []
  }
 ],
 "metadata": {
  "kernelspec": {
   "display_name": "Python 2",
   "language": "python",
   "name": "python2"
  },
  "language_info": {
   "codemirror_mode": {
    "name": "ipython",
    "version": 2
   },
   "file_extension": ".py",
   "mimetype": "text/x-python",
   "name": "python",
   "nbconvert_exporter": "python",
   "pygments_lexer": "ipython2",
   "version": "2.7.13"
  }
 },
 "nbformat": 4,
 "nbformat_minor": 0
}
