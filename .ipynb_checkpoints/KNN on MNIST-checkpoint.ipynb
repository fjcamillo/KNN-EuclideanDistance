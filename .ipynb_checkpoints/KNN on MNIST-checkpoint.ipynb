{
 "cells": [
  {
   "cell_type": "markdown",
   "metadata": {},
   "source": [
    "# KNearestNeighbors on MNIST"
   ]
  },
  {
   "cell_type": "code",
   "execution_count": 1,
   "metadata": {
    "collapsed": true
   },
   "outputs": [],
   "source": [
    "import numpy as np\n",
    "import gzip"
   ]
  },
  {
   "cell_type": "code",
   "execution_count": 2,
   "metadata": {
    "collapsed": true
   },
   "outputs": [],
   "source": [
    "mnist_test_images = gzip.open('/home/fjcamillo/Documents/Python Study/Datasets/MNIST/t10k-images-idx3-ubyte.gz', 'rb')\n",
    "mnist_test_labels = gzip.open('/home/fjcamillo/Documents/Python Study/Datasets/MNIST/t10k-labels-idx1-ubyte.gz', 'rb')\n",
    "mnist_train_images = gzip.open('/home/fjcamillo/Documents/Python Study/Datasets/MNIST/train-images-idx3-ubyte.gz', 'rb')\n",
    "mnist_train_labels = gzip.open('/home/fjcamillo/Documents/Python Study/Datasets/MNIST/train-labels-idx1-ubyte.gz', 'rb')"
   ]
  },
  {
   "cell_type": "code",
   "execution_count": null,
   "metadata": {
    "collapsed": true
   },
   "outputs": [],
   "source": []
  }
 ],
 "metadata": {
  "kernelspec": {
   "display_name": "Python 2",
   "language": "python",
   "name": "python2"
  },
  "language_info": {
   "codemirror_mode": {
    "name": "ipython",
    "version": 2
   },
   "file_extension": ".py",
   "mimetype": "text/x-python",
   "name": "python",
   "nbconvert_exporter": "python",
   "pygments_lexer": "ipython2",
   "version": "2.7.13"
  }
 },
 "nbformat": 4,
 "nbformat_minor": 0
}
