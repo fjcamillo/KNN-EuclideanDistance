{
 "cells": [
  {
   "cell_type": "markdown",
   "metadata": {},
   "source": [
    "# KNearestNeighbors on MNIST"
   ]
  },
  {
   "cell_type": "code",
   "execution_count": 23,
   "metadata": {
    "collapsed": false
   },
   "outputs": [],
   "source": [
    "import numpy as np\n",
    "import gzip\n",
    "import cPickle\n",
    "from mnist import MNIST\n",
    "import os\n",
    "import time"
   ]
  },
  {
   "cell_type": "code",
   "execution_count": 24,
   "metadata": {
    "collapsed": true
   },
   "outputs": [],
   "source": [
    "PROJECT_ROOT = os.path.abspath(os.path.dirname('__file__'))"
   ]
  },
  {
   "cell_type": "code",
   "execution_count": 25,
   "metadata": {
    "collapsed": false
   },
   "outputs": [],
   "source": [
    "mnistdata = MNIST(PROJECT_ROOT + \"/mnist\")"
   ]
  },
  {
   "cell_type": "code",
   "execution_count": 32,
   "metadata": {
    "collapsed": false
   },
   "outputs": [],
   "source": [
    "train_images, train_labels = mnistdata.load_training()\n",
    "test_images, test_labels = mnistdata.load_testing()"
   ]
  },
  {
   "cell_type": "code",
   "execution_count": 43,
   "metadata": {
    "collapsed": false
   },
   "outputs": [],
   "source": [
    "def clf(K, train, labels, test, verbose=False):\n",
    "    t1 = time.time()\n",
    "    l2 = lambda x,y : np.sqrt(np.sum(np.square(np.subtract(x,y))))\n",
    "    distances = [l2(x,y) for x in test for y in train]\n",
    "    nearestneighbor = np.argsort(distances)[:K]\n",
    "    for near in nearestneighbor:\n",
    "        print(\"%s is the nearest distance\" % (near))\n",
    "    t2 = time.time()\n",
    "    print(t2-t1)\n",
    "    return nearestneighbor\n",
    "    "
   ]
  },
  {
   "cell_type": "code",
   "execution_count": 45,
   "metadata": {
    "collapsed": false
   },
   "outputs": [
    {
     "name": "stdout",
     "output_type": "stream",
     "text": [
      "26357664 is the nearest distance\n",
      "27797664 is the nearest distance\n",
      "34337664 is the nearest distance\n"
     ]
    }
   ],
   "source": [
    "if __name__=='__main__':\n",
    "    clf(3, train_images, train_labels, test_images[0])"
   ]
  },
  {
   "cell_type": "code",
   "execution_count": null,
   "metadata": {
    "collapsed": true
   },
   "outputs": [],
   "source": []
  }
 ],
 "metadata": {
  "kernelspec": {
   "display_name": "Python 2",
   "language": "python",
   "name": "python2"
  },
  "language_info": {
   "codemirror_mode": {
    "name": "ipython",
    "version": 2
   },
   "file_extension": ".py",
   "mimetype": "text/x-python",
   "name": "python",
   "nbconvert_exporter": "python",
   "pygments_lexer": "ipython2",
   "version": "2.7.13"
  }
 },
 "nbformat": 4,
 "nbformat_minor": 0
}
