{
 "cells": [
  {
   "cell_type": "markdown",
   "metadata": {},
   "source": [
    "<center><h1>Euclidean Distance (L2 Distance)</h1></center>\n",
    "<br>\n",
    "<div><img src=\"https://wikimedia.org/api/rest_v1/media/math/render/svg/dc0281a964ec758cca02ab9ef91a7f54ac00d4b7\"></div>"
   ]
  },
  {
   "cell_type": "code",
   "execution_count": 1,
   "metadata": {
    "collapsed": false
   },
   "outputs": [],
   "source": [
    "import numpy as np\n",
    "from PIL import Image\n",
    "import os\n",
    "import pylab as pl\n",
    "%matplotlib inline"
   ]
  },
  {
   "cell_type": "code",
   "execution_count": 12,
   "metadata": {
    "collapsed": true
   },
   "outputs": [],
   "source": [
    "def convertimage(filename, size, verbose=False):\n",
    "    img = Image.open(filename)\n",
    "#     pl.imshow(img)\n",
    "    img = img.resize(size)\n",
    "    img = [list(img.getdata())]\n",
    "    img = map(list, img)\n",
    "    img = np.array(img)\n",
    "    return img"
   ]
  },
  {
   "cell_type": "code",
   "execution_count": 3,
   "metadata": {
    "collapsed": true
   },
   "outputs": [],
   "source": [
    "def createlabel(directory, pool):\n",
    "    label = []\n",
    "    for direct in directory:\n",
    "        parsed = direct.split('/')[-1]\n",
    "        for po in pool:\n",
    "            if po in parsed: label.append(po)\n",
    "    label = np.array(label)\n",
    "    return label"
   ]
  },
  {
   "cell_type": "code",
   "execution_count": 10,
   "metadata": {
    "collapsed": true
   },
   "outputs": [],
   "source": [
    "def train(trainDir, root, listoflabels, working_size, verbose=False):\n",
    "    training_images = [root_path+training_path+train for train in os.listdir(root_path+training_path)]\n",
    "        \n",
    "    training_matrix = [convertimage(f, working_size, verbose) for f in training_images]\n",
    "    training_matrix = np.array(training_matrix)\n",
    "            \n",
    "    train_labels = createlabel(training_images, listoflabels)\n",
    "    \n",
    "    return training_matrix, train_labels"
   ]
  },
  {
   "cell_type": "code",
   "execution_count": 5,
   "metadata": {
    "collapsed": true
   },
   "outputs": [],
   "source": [
    "def test(testDir, root, verbose=False):\n",
    "    test_images = [root_path+test_path+test for test in os.listdir(root_path+test_path)]\n",
    "    test_matrix = [convertimage(f, working_size, verbose) for f in test_images]\n",
    "    test_matrix = np.array(test_matrix)\n",
    "    return test_matrix"
   ]
  },
  {
   "cell_type": "code",
   "execution_count": 63,
   "metadata": {
    "collapsed": true
   },
   "outputs": [],
   "source": [
    "def clf(training_matrix, test_matrix, train_labels, K=1, verbose=False):\n",
    "    \n",
    "    #Get Euclidean Distances between images\n",
    "    l2distance = [np.sqrt(np.sum(np.square(np.subtract(test, train)))) for train in training_matrix for test in test_matrix]\n",
    "    \n",
    "    \n",
    "    #Convert to sigmoid\n",
    "    l2distance_sigmoid = [l2/np.sqrt(1+np.square(l2)) for l2 in l2distance]\n",
    "    print(l2distance_sigmoid)\n",
    "    \n",
    "    #Get the indexes smallest distance or the NearestNeighbor\n",
    "    #neighbor_index = filter(lambda a: a!=-1, [nearest if l2distance[np.argmin(l2distance)]==l2distance[nearest] else -1 for nearest in range(0, len(l2distance))])\n",
    "    neighbor_index = np.argsort(l2distance)[:K]\n",
    "    \n",
    "    #Get the labels of the indexes\n",
    "    actual_labels = [train_labels[nearestneighbor] for nearestneighbor in neighbor_index]\n",
    "    \n",
    "    #Print Labels\n",
    "    for labe in range(len(actual_labels)):\n",
    "        print(\"%s is the nearest image, with a distance of %s\" % (actual_labels[labe], str(l2distance_sigmoid[neighbor_index[labe]])))"
   ]
  },
  {
   "cell_type": "code",
   "execution_count": 65,
   "metadata": {
    "collapsed": false
   },
   "outputs": [],
   "source": [
    "def main(listoflabels, working_size, K=1, verbose=False):\n",
    "    #root file\n",
    "    root_path = os.path.abspath(os.path.dirname('__file__'))\n",
    "    \n",
    "    #Training and Test directory\n",
    "    training_path = \"/training/\"\n",
    "    test_path = \"/test/\"\n",
    "    \n",
    "    #List of images\n",
    "    training_images = [root_path+training_path+train for train in os.listdir(root_path+training_path)]\n",
    "    test_images = [root_path+test_path+test for test in os.listdir(root_path+test_path)]\n",
    "    \n",
    "    #Create labels list\n",
    "    train_labels = createlabel(training_images, listoflabels)\n",
    "    \n",
    "    #Create Training Matrix\n",
    "    training_matrix = [convertimage(f, working_size, verbose) for f in training_images]   \n",
    "    training_matrix = np.array(training_matrix)\n",
    "    \n",
    "    #Create Test Matrix\n",
    "    test_matrix = [convertimage(f, working_size, verbose) for f in test_images]\n",
    "    test_matrix = np.array(test_matrix)\n",
    "    \n",
    "    #Get Euclidean Distances between images\n",
    "    l2distance = [np.sqrt(np.sum(np.square(np.subtract(test, train)))) for train in training_matrix for test in test_matrix]\n",
    "    print(l2distance)\n",
    "#     pl.imshow(l2distance[0])\n",
    "    \n",
    "    #Get the indexes smallest distance or the NearestNeighbor\n",
    "    #neighbor_index = filter(lambda a: a!=-1, [nearest if l2distance[np.argmin(l2distance)]==l2distance[nearest] else -1 for nearest in range(0, len(l2distance))])\n",
    "    neighbor_index = np.argsort(l2distance_sigmoid)[:K]\n",
    "    \n",
    "    #Get the labels of the indexes\n",
    "    actual_labels = [train_labels[nearestneighbor] for nearestneighbor in neighbor_index]\n",
    "    \n",
    "    #Print Labels\n",
    "    for labe in range(len(actual_labels)):\n",
    "        print(\"%s is the nearest image, with a distance of %s\" % (actual_labels[labe], str(l2distance[neighbor_index[labe]])))"
   ]
  },
  {
   "cell_type": "code",
   "execution_count": null,
   "metadata": {
    "collapsed": false
   },
   "outputs": [],
   "source": []
  },
  {
   "cell_type": "code",
   "execution_count": 8,
   "metadata": {
    "collapsed": true
   },
   "outputs": [],
   "source": [
    "labels = [\"fj\", \"shella\", \"cha\", 'jay', 'jhoffer', 'paul', 'rommel', 'shaneh', 'william']\n",
    "working_size = (50,37)\n",
    "root_path = os.path.abspath(os.path.dirname('__file__'))\n",
    "training_path = \"/training/\"\n",
    "test_path = \"/test/\"\n",
    "\n",
    "\n"
   ]
  },
  {
   "cell_type": "code",
   "execution_count": 13,
   "metadata": {
    "collapsed": false
   },
   "outputs": [],
   "source": [
    "training_matrix, train_labels = train(training_path, root_path, labels, working_size)"
   ]
  },
  {
   "cell_type": "code",
   "execution_count": 43,
   "metadata": {
    "collapsed": true
   },
   "outputs": [],
   "source": [
    "test_matrix = test(test_path, root_path)"
   ]
  },
  {
   "cell_type": "code",
   "execution_count": 66,
   "metadata": {
    "collapsed": false
   },
   "outputs": [
    {
     "name": "stdout",
     "output_type": "stream",
     "text": [
      "[0.99999999483166568, 0.99999998917623334, 0.99999999248412297, 0.99999999439144516, 0.99999999271005835, 0.9999999901547687, 0.99999999206712342, 0.99999999164133024, 0.9999999944081871, 0.99999999392986905, 0.99999999474939572, 0.99999999421719743, 0.99999999419821739, 0.99999999314996135, 0.99999998991553507, 0.99999999468200795, 0.99999999247449378, 0.99999998952343305, 0.99999999283978735, 0.9999999934534417, 0.99999999077491142, 0.99999999703460485, 0.99999999336950829, 0.99999999208387524, 0.99999999392835537, 0.99999999133451711, 0.99999999248262106, 0.99999999170063525, 0.99999999379887639, 0.99999999149099084, 0.99999999523209016, 0.99999999063557199, 0.99999999230370518, 0.99999999185399879, 0.99999999448168353, 0.9999999896551639, 0.9999999945884972, 0.99999998912300259, 0.99999999540048812, 0.99999999560119557, 0.99999999455896837, 0.99999999299939668, 0.99999999344712232, 0.99999999079734192, 0.99999999250380223, 0.99999999233241244, 0.99999999315455801, 0.99999999213051383, 0.99999999426010311, 0.99999999201884959, 0.9999999916131852, 0.99999999294071729, 0.99999999023600594, 0.99999999368182935, 0.99999999401610307, 0.99999999149170393, 0.99999998966141823, 0.99999999441905751, 0.99999999468882517, 0.99999999065524336, 0.99999999521560234, 0.99999999453213329, 0.99999999266603257, 0.99999999258281169, 0.99999999299412901, 0.99999999487219338, 0.99999999562065256, 0.99999999431489595, 0.99999999070908263, 0.99999999221460667, 0.99999999302723042, 0.9999999929745883, 0.99999999539179329, 0.9999999935174847, 0.99999999483505553, 0.9999999938887425, 0.99999999353712898, 0.99999999230929104, 0.99999999365665349, 0.99999999244004878, 0.99999999309671772, 0.99999999323099431, 0.99999999388392802, 0.99999999603716705, 0.99999999334477341, 0.99999998966778858, 0.99999999689280006, 0.99999998967391246, 0.99999999551565866, 0.9999999935457714, 0.99999999109013238, 0.99999998608092444, 0.99999999424148245, 0.99999999240867909, 0.99999999229868053, 0.99999999617850788, 0.99999999491593605, 0.99999999234664982, 0.9999999952287828, 0.9999999901231762, 0.99999999259236305, 0.99999999255078098, 0.99999999356045377, 0.9999999940199521, 0.99999999671531148, 0.99999999161318853, 0.99999999554268537, 0.99999999069834056, 0.9999999960025423, 0.99999999622892743, 0.99999999548316643, 0.99999999263683459, 0.99999999524546468]\n",
      "fj is the nearest image, with a distance of 0.999999986081\n",
      "paul is the nearest image, with a distance of 0.999999989123\n",
      "cha is the nearest image, with a distance of 0.999999989176\n",
      "cha is the nearest image, with a distance of 0.999999989523\n",
      "cha is the nearest image, with a distance of 0.999999989655\n"
     ]
    }
   ],
   "source": [
    "clf(training_matrix, test_matrix, train_labels, 5, True)"
   ]
  },
  {
   "cell_type": "code",
   "execution_count": 61,
   "metadata": {
    "collapsed": false
   },
   "outputs": [
    {
     "data": {
      "text/plain": [
       "0.9997343326784045"
      ]
     },
     "execution_count": 61,
     "metadata": {},
     "output_type": "execute_result"
    }
   ],
   "source": [
    "1/(1+np.exp(-8.233))"
   ]
  },
  {
   "cell_type": "markdown",
   "metadata": {},
   "source": [
    "<div><img src=\"https://wikimedia.org/api/rest_v1/media/math/render/svg/de035d9e6fef05416323e732e2a12feb4401d37b\"></div>"
   ]
  },
  {
   "cell_type": "code",
   "execution_count": 67,
   "metadata": {
    "collapsed": false
   },
   "outputs": [
    {
     "data": {
      "text/plain": [
       "0.0"
      ]
     },
     "execution_count": 67,
     "metadata": {},
     "output_type": "execute_result"
    }
   ],
   "source": [
    "0/np.sqrt(1+np.square(0))"
   ]
  },
  {
   "cell_type": "code",
   "execution_count": null,
   "metadata": {
    "collapsed": true
   },
   "outputs": [],
   "source": []
  }
 ],
 "metadata": {
  "kernelspec": {
   "display_name": "Python 2",
   "language": "python",
   "name": "python2"
  },
  "language_info": {
   "codemirror_mode": {
    "name": "ipython",
    "version": 2
   },
   "file_extension": ".py",
   "mimetype": "text/x-python",
   "name": "python",
   "nbconvert_exporter": "python",
   "pygments_lexer": "ipython2",
   "version": "2.7.13"
  }
 },
 "nbformat": 4,
 "nbformat_minor": 0
}
