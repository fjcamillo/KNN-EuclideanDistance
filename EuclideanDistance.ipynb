{
 "cells": [
  {
   "cell_type": "markdown",
   "metadata": {},
   "source": [
    "<center><h1>Euclidean Distance (L2 Distance)</h1></center>\n",
    "<br>\n",
    "<div><img src=\"https://wikimedia.org/api/rest_v1/media/math/render/svg/dc0281a964ec758cca02ab9ef91a7f54ac00d4b7\"></div>"
   ]
  },
  {
   "cell_type": "code",
   "execution_count": 1,
   "metadata": {
    "collapsed": false
   },
   "outputs": [],
   "source": [
    "import numpy as np\n",
    "from PIL import Image\n",
    "import os\n",
    "import pylab as pl\n",
    "%matplotlib inline"
   ]
  },
  {
   "cell_type": "code",
   "execution_count": 12,
   "metadata": {
    "collapsed": true
   },
   "outputs": [],
   "source": [
    "def convertimage(filename, size, verbose=False):\n",
    "    img = Image.open(filename)\n",
    "#     pl.imshow(img)\n",
    "    img = img.resize(size)\n",
    "    img = [list(img.getdata())]\n",
    "    img = map(list, img)\n",
    "    img = np.array(img)\n",
    "    return img"
   ]
  },
  {
   "cell_type": "code",
   "execution_count": 3,
   "metadata": {
    "collapsed": true
   },
   "outputs": [],
   "source": [
    "def createlabel(directory, pool):\n",
    "    label = []\n",
    "    for direct in directory:\n",
    "        parsed = direct.split('/')[-1]\n",
    "        for po in pool:\n",
    "            if po in parsed: label.append(po)\n",
    "    label = np.array(label)\n",
    "    return label"
   ]
  },
  {
   "cell_type": "code",
   "execution_count": 10,
   "metadata": {
    "collapsed": true
   },
   "outputs": [],
   "source": [
    "def train(trainDir, root, listoflabels, working_size, verbose=False):\n",
    "    training_images = [root_path+training_path+train for train in os.listdir(root_path+training_path)]\n",
    "        \n",
    "    training_matrix = [convertimage(f, working_size, verbose) for f in training_images]\n",
    "    training_matrix = np.array(training_matrix)\n",
    "            \n",
    "    train_labels = createlabel(training_images, listoflabels)\n",
    "    \n",
    "    return training_matrix, train_labels"
   ]
  },
  {
   "cell_type": "code",
   "execution_count": 5,
   "metadata": {
    "collapsed": true
   },
   "outputs": [],
   "source": [
    "def test(testDir, root, verbose=False):\n",
    "    test_images = [root_path+test_path+test for test in os.listdir(root_path+test_path)]\n",
    "    test_matrix = [convertimage(f, working_size, verbose) for f in test_images]\n",
    "    test_matrix = np.array(test_matrix)\n",
    "    return test_matrix"
   ]
  },
  {
   "cell_type": "code",
   "execution_count": 26,
   "metadata": {
    "collapsed": true
   },
   "outputs": [],
   "source": [
    "def clf(training_matrix, test_matrix, train_labels, K=1, verbose=False):\n",
    "    \n",
    "    #Get Euclidean Distances between images\n",
    "    l2distance = [np.sqrt(np.sum(np.square(np.subtract(test, train)))) for train in training_matrix for test in test_matrix]\n",
    "    print(l2distance)\n",
    "    \n",
    "    #Get the indexes smallest distance or the NearestNeighbor\n",
    "    #neighbor_index = filter(lambda a: a!=-1, [nearest if l2distance[np.argmin(l2distance)]==l2distance[nearest] else -1 for nearest in range(0, len(l2distance))])\n",
    "    neighbor_index = np.argsort(l2distance)[:K]\n",
    "    \n",
    "    #Get the labels of the indexes\n",
    "    actual_labels = [train_labels[nearestneighbor] for nearestneighbor in neighbor_index]\n",
    "    \n",
    "    #Print Labels\n",
    "    for labe in range(len(actual_labels)):\n",
    "        print(\"%s is the nearest image, with a distance of %s\" % (actual_labels[labe], str(l2distance[neighbor_index[labe]])))"
   ]
  },
  {
   "cell_type": "code",
   "execution_count": 20,
   "metadata": {
    "collapsed": false
   },
   "outputs": [],
   "source": [
    "def main(listoflabels, working_size, K=1, verbose=False):\n",
    "    #root file\n",
    "    root_path = os.path.abspath(os.path.dirname('__file__'))\n",
    "    \n",
    "    #Training and Test directory\n",
    "    training_path = \"/training/\"\n",
    "    test_path = \"/test/\"\n",
    "    \n",
    "    #List of images\n",
    "    training_images = [root_path+training_path+train for train in os.listdir(root_path+training_path)]\n",
    "    test_images = [root_path+test_path+test for test in os.listdir(root_path+test_path)]\n",
    "    \n",
    "    #Create labels list\n",
    "    train_labels = createlabel(training_images, listoflabels)\n",
    "    \n",
    "    #Create Training Matrix\n",
    "    training_matrix = [convertimage(f, working_size, verbose) for f in training_images]   \n",
    "    training_matrix = np.array(training_matrix)\n",
    "    \n",
    "    #Create Test Matrix\n",
    "    test_matrix = [convertimage(f, working_size, verbose) for f in test_images]\n",
    "    test_matrix = np.array(test_matrix)\n",
    "    \n",
    "    #Get Euclidean Distances between images\n",
    "    l2distance = [np.sqrt(np.sum(np.square(np.subtract(test, train)))) for train in training_matrix for test in test_matrix]\n",
    "    print(l2distance)\n",
    "#     pl.imshow(l2distance[0])\n",
    "    \n",
    "    #Get the indexes smallest distance or the NearestNeighbor\n",
    "    #neighbor_index = filter(lambda a: a!=-1, [nearest if l2distance[np.argmin(l2distance)]==l2distance[nearest] else -1 for nearest in range(0, len(l2distance))])\n",
    "    neighbor_index = np.argsort(l2distance)[:K]\n",
    "    \n",
    "    #Get the labels of the indexes\n",
    "    actual_labels = [train_labels[nearestneighbor] for nearestneighbor in neighbor_index]\n",
    "    \n",
    "    #Print Labels\n",
    "    for labe in range(len(actual_labels)):\n",
    "        print(\"%s is the nearest image, with a distance of %s\" % (actual_labels[labe], str(l2distance[neighbor_index[labe]])))"
   ]
  },
  {
   "cell_type": "code",
   "execution_count": null,
   "metadata": {
    "collapsed": false
   },
   "outputs": [],
   "source": []
  },
  {
   "cell_type": "code",
   "execution_count": 8,
   "metadata": {
    "collapsed": true
   },
   "outputs": [],
   "source": [
    "labels = [\"fj\", \"shella\", \"cha\", 'jay', 'jhoffer', 'paul', 'rommel', 'shaneh', 'william']\n",
    "working_size = (50,37)\n",
    "root_path = os.path.abspath(os.path.dirname('__file__'))\n",
    "training_path = \"/training/\"\n",
    "test_path = \"/test/\"\n",
    "\n",
    "\n"
   ]
  },
  {
   "cell_type": "code",
   "execution_count": 13,
   "metadata": {
    "collapsed": false
   },
   "outputs": [],
   "source": [
    "training_matrix, train_labels = train(training_path, root_path, labels, working_size)"
   ]
  },
  {
   "cell_type": "code",
   "execution_count": 36,
   "metadata": {
    "collapsed": true
   },
   "outputs": [],
   "source": [
    "test_matrix = test(test_path, root_path)"
   ]
  },
  {
   "cell_type": "code",
   "execution_count": 37,
   "metadata": {
    "collapsed": false
   },
   "outputs": [
    {
     "name": "stdout",
     "output_type": "stream",
     "text": [
      "[9422.8891535452112, 9175.5007492779387, 6743.1712124192727, 7215.7948280144437, 7635.407782168546, 7440.1624982254252, 7834.4509060941855, 6970.5587293989565, 9570.7089601554599, 8528.0926941491434, 6585.4274728372793, 8858.0244975953865, 8326.003603170011, 7343.2926538440506, 8292.0053666166914, 8530.9519398482134, 7136.802225086527, 9124.8976980566749, 8469.2471330101125, 9303.991401543748, 8112.7120003116097, 8030.3196698512565, 8947.5752022545184, 8773.6532869723087, 7255.8073982155838, 8005.5658763138035, 7605.7723473688065, 8388.3195575752834, 8020.8633575195636, 8434.5652525782261, 8470.8706754382692, 9078.8764723395161, 7255.2840054680146, 9188.3148618231407, 7959.5352879423808, 9181.4740646586815, 7437.8884100260602, 9026.6335363744547, 9224.601346399746, 6678.3456783847296, 8633.4184423089337, 7784.9156064789813, 7594.2667190453612, 8066.1327164881186, 8568.5825548920275, 7869.442102207754, 8781.0749911386138, 7006.772866305857, 7777.2897592927575, 8285.513683532241, 8450.784283130175, 7831.3915110917551, 8502.7098621557125, 7499.8436650372923, 8197.7853716720347, 9296.1277422376243, 9035.774399574173, 6835.0008778346182, 8999.7742749471217, 7149.2107256675545, 7427.7706615107609, 8153.9518639736889, 7220.5491480911614, 10379.958477758955, 7208.1075879872933, 7969.12178348405, 8093.954348771681, 6747.2853059582412, 8326.6860755044672, 8710.6577248793328, 7795.3305895260146, 7723.313408117011, 7729.8066599365857, 8401.5787802055402, 8458.4276316582618, 8267.2992567101373, 7053.3687696022243, 7775.7048555098845, 8195.6611081718111, 7686.3719009686229, 8139.7332880138028, 8447.8816279585735, 8291.7080266975154, 7889.7070287812339, 8313.7170387258193, 9035.4217942495634, 7980.7307936053076, 9084.9023109772625, 8010.284389458342, 8739.0474309274687, 7205.817719037861, 9562.538993384549, 7246.1608455788501, 7643.1032964365986, 7396.546221041277, 7669.7744425765222, 7332.9224051533502, 7851.2593257387698, 8714.7367143247648, 7152.4105027605901, 7401.352849310726, 7529.599391733932, 8631.7800018304461, 8644.4321386659049, 9122.496204438783, 8322.7200481573327, 7879.33778943383, 8588.5089509180816, 9697.9736027687759, 8164.8138374368336, 7062.8778129031798, 7500.4626523968509, 7790.7567026573224]\n",
      "shaneh is the nearest image, with a distance of 6585.42747284\n",
      "shaneh is the nearest image, with a distance of 6678.34567838\n",
      "paul is the nearest image, with a distance of 6743.17121242\n"
     ]
    }
   ],
   "source": [
    "clf(training_matrix, test_matrix, train_labels, 3, True)"
   ]
  },
  {
   "cell_type": "code",
   "execution_count": null,
   "metadata": {
    "collapsed": true
   },
   "outputs": [],
   "source": []
  }
 ],
 "metadata": {
  "kernelspec": {
   "display_name": "Python 2",
   "language": "python",
   "name": "python2"
  },
  "language_info": {
   "codemirror_mode": {
    "name": "ipython",
    "version": 2
   },
   "file_extension": ".py",
   "mimetype": "text/x-python",
   "name": "python",
   "nbconvert_exporter": "python",
   "pygments_lexer": "ipython2",
   "version": "2.7.13"
  }
 },
 "nbformat": 4,
 "nbformat_minor": 0
}
